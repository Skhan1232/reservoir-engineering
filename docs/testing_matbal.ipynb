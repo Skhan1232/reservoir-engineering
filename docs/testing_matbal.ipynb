{
  "cells": [
    {
      "cell_type": "markdown",
      "metadata": {
        "colab_type": "text",
        "id": "view-in-github"
      },
      "source": [
        "<a href=\"https://colab.research.google.com/github/yohanesnuwara/reservoir-engineering/blob/master/docs/testing_matbal.ipynb\" target=\"_parent\"><img src=\"https://colab.research.google.com/assets/colab-badge.svg\" alt=\"Open In Colab\"/></a>"
      ]
    },
    {
      "cell_type": "code",
      "execution_count": 1,
      "metadata": {
        "colab": {},
        "colab_type": "code",
        "id": "2i6PesJ8vnoY"
      },
      "outputs": [],
      "source": [
        "import numpy as np\n",
        "import matplotlib.pyplot as plt\n",
        "import pandas as pd"
      ]
    },
    {
      "cell_type": "code",
      "execution_count": 2,
      "metadata": {
        "colab": {
          "base_uri": "https://localhost:8080/",
          "height": 134
        },
        "colab_type": "code",
        "id": "qSp2JQhqu7I3",
        "outputId": "3d42bbfa-45dd-4ef5-e9a4-6f6f72bed675"
      },
      "outputs": [
        {
          "name": "stderr",
          "output_type": "stream",
          "text": [
            "Cloning into 'reservoir-engineering'...\n"
          ]
        }
      ],
      "source": [
        "!git clone https://github.com/yohanesnuwara/reservoir-engineering"
      ]
    },
    {
      "cell_type": "code",
      "execution_count": 3,
      "metadata": {
        "colab": {
          "base_uri": "https://localhost:8080/",
          "height": 118
        },
        "colab_type": "code",
        "id": "h165vBcPwIZU",
        "outputId": "d897c0f5-83a3-41ed-bed2-977328bccdd6"
      },
      "outputs": [
        {
          "name": "stderr",
          "output_type": "stream",
          "text": [
            "Cloning into 'pyreservoir'...\n"
          ]
        }
      ],
      "source": [
        "!git clone https://github.com/yohanesnuwara/pyreservoir"
      ]
    },
    {
      "cell_type": "markdown",
      "metadata": {
        "colab_type": "text",
        "id": "Q2uflxWwvUHz"
      },
      "source": [
        "## Gas Condensate Material Balance"
      ]
    },
    {
      "cell_type": "code",
      "execution_count": 7,
      "metadata": {
        "colab": {},
        "colab_type": "code",
        "id": "b5AwM0TZ-38Z"
      },
      "outputs": [
        {
          "ename": "ModuleNotFoundError",
          "evalue": "No module named 'gascorrelation'",
          "output_type": "error",
          "traceback": [
            "\u001b[1;31m---------------------------------------------------------------------------\u001b[0m",
            "\u001b[1;31mModuleNotFoundError\u001b[0m                       Traceback (most recent call last)",
            "\u001b[1;32mc:\\Users\\si10933\\OneDrive - Hilcorp\\Desktop\\RE\\reservoir-engineering\\docs\\testing_matbal.ipynb Cell 6\u001b[0m line \u001b[0;36m4\n\u001b[0;32m      <a href='vscode-notebook-cell:/c%3A/Users/si10933/OneDrive%20-%20Hilcorp/Desktop/RE/reservoir-engineering/docs/testing_matbal.ipynb#W5sZmlsZQ%3D%3D?line=0'>1</a>\u001b[0m \u001b[39mimport\u001b[39;00m \u001b[39msys\u001b[39;00m\n\u001b[0;32m      <a href='vscode-notebook-cell:/c%3A/Users/si10933/OneDrive%20-%20Hilcorp/Desktop/RE/reservoir-engineering/docs/testing_matbal.ipynb#W5sZmlsZQ%3D%3D?line=1'>2</a>\u001b[0m sys\u001b[39m.\u001b[39mpath\u001b[39m.\u001b[39mappend(\u001b[39m'\u001b[39m\u001b[39m/content/pyreservoir/pvt\u001b[39m\u001b[39m'\u001b[39m)\n\u001b[1;32m----> <a href='vscode-notebook-cell:/c%3A/Users/si10933/OneDrive%20-%20Hilcorp/Desktop/RE/reservoir-engineering/docs/testing_matbal.ipynb#W5sZmlsZQ%3D%3D?line=3'>4</a>\u001b[0m \u001b[39mimport\u001b[39;00m \u001b[39mgascorrelation\u001b[39;00m\n",
            "\u001b[1;31mModuleNotFoundError\u001b[0m: No module named 'gascorrelation'"
          ]
        }
      ],
      "source": [
        "import sys\n",
        "sys.path.append('/content/pyreservoir/pvt')\n",
        "\n",
        "import gascorrelation"
      ]
    },
    {
      "cell_type": "code",
      "execution_count": 3,
      "metadata": {
        "colab": {},
        "colab_type": "code",
        "id": "bFYi7m8FwQf8"
      },
      "outputs": [],
      "source": [
        "import sys\n",
        "sys.path.append('/content/pyreservoir/matbal')\n",
        "\n",
        "from plot import *"
      ]
    },
    {
      "cell_type": "markdown",
      "metadata": {
        "colab_type": "text",
        "id": "wH-_ax7-vwyf"
      },
      "source": [
        "### Data 1. Ideal data (Rs and Bo are known, measured)"
      ]
    },
    {
      "cell_type": "code",
      "execution_count": 6,
      "metadata": {
        "colab": {
          "base_uri": "https://localhost:8080/",
          "height": 462
        },
        "colab_type": "code",
        "id": "GKSN4_tAvufu",
        "outputId": "2af5e914-24bd-4979-c004-0e2734277e11"
      },
      "outputs": [
        {
          "data": {
            "text/html": [
              "<div>\n",
              "<style scoped>\n",
              "    .dataframe tbody tr th:only-of-type {\n",
              "        vertical-align: middle;\n",
              "    }\n",
              "\n",
              "    .dataframe tbody tr th {\n",
              "        vertical-align: top;\n",
              "    }\n",
              "\n",
              "    .dataframe thead th {\n",
              "        text-align: right;\n",
              "    }\n",
              "</style>\n",
              "<table border=\"1\" class=\"dataframe\">\n",
              "  <thead>\n",
              "    <tr style=\"text-align: right;\">\n",
              "      <th></th>\n",
              "      <th>p</th>\n",
              "      <th>Np</th>\n",
              "      <th>Gp</th>\n",
              "      <th>Bg</th>\n",
              "      <th>Bo</th>\n",
              "      <th>Rs</th>\n",
              "      <th>Rv</th>\n",
              "    </tr>\n",
              "  </thead>\n",
              "  <tbody>\n",
              "    <tr>\n",
              "      <th>0</th>\n",
              "      <td>4500.0</td>\n",
              "      <td>0.0</td>\n",
              "      <td>0.000000e+00</td>\n",
              "      <td>0.000821</td>\n",
              "      <td>5.7015</td>\n",
              "      <td>6944.0</td>\n",
              "      <td>0.000144</td>\n",
              "    </tr>\n",
              "    <tr>\n",
              "      <th>1</th>\n",
              "      <td>4400.0</td>\n",
              "      <td>157000.0</td>\n",
              "      <td>1.090000e+09</td>\n",
              "      <td>0.000831</td>\n",
              "      <td>2.0338</td>\n",
              "      <td>2040.0</td>\n",
              "      <td>0.000142</td>\n",
              "    </tr>\n",
              "    <tr>\n",
              "      <th>2</th>\n",
              "      <td>4300.0</td>\n",
              "      <td>371000.0</td>\n",
              "      <td>2.490000e+09</td>\n",
              "      <td>0.000842</td>\n",
              "      <td>1.9717</td>\n",
              "      <td>1900.0</td>\n",
              "      <td>0.000134</td>\n",
              "    </tr>\n",
              "    <tr>\n",
              "      <th>3</th>\n",
              "      <td>4250.0</td>\n",
              "      <td>460000.0</td>\n",
              "      <td>3.220000e+09</td>\n",
              "      <td>0.000847</td>\n",
              "      <td>1.9420</td>\n",
              "      <td>1831.0</td>\n",
              "      <td>0.000130</td>\n",
              "    </tr>\n",
              "    <tr>\n",
              "      <th>4</th>\n",
              "      <td>4200.0</td>\n",
              "      <td>530000.0</td>\n",
              "      <td>3.890000e+09</td>\n",
              "      <td>0.000853</td>\n",
              "      <td>1.9132</td>\n",
              "      <td>1760.0</td>\n",
              "      <td>0.000126</td>\n",
              "    </tr>\n",
              "    <tr>\n",
              "      <th>5</th>\n",
              "      <td>4100.0</td>\n",
              "      <td>652000.0</td>\n",
              "      <td>5.090000e+09</td>\n",
              "      <td>0.000861</td>\n",
              "      <td>1.8579</td>\n",
              "      <td>1625.0</td>\n",
              "      <td>0.000118</td>\n",
              "    </tr>\n",
              "    <tr>\n",
              "      <th>6</th>\n",
              "      <td>4000.0</td>\n",
              "      <td>794000.0</td>\n",
              "      <td>6.500000e+09</td>\n",
              "      <td>0.000873</td>\n",
              "      <td>1.8059</td>\n",
              "      <td>1512.0</td>\n",
              "      <td>0.000110</td>\n",
              "    </tr>\n",
              "    <tr>\n",
              "      <th>7</th>\n",
              "      <td>3500.0</td>\n",
              "      <td>1610000.0</td>\n",
              "      <td>1.370000e+10</td>\n",
              "      <td>0.000951</td>\n",
              "      <td>1.5899</td>\n",
              "      <td>1139.0</td>\n",
              "      <td>0.000078</td>\n",
              "    </tr>\n",
              "    <tr>\n",
              "      <th>8</th>\n",
              "      <td>3000.0</td>\n",
              "      <td>2420000.0</td>\n",
              "      <td>2.180000e+10</td>\n",
              "      <td>0.001073</td>\n",
              "      <td>1.4372</td>\n",
              "      <td>879.0</td>\n",
              "      <td>0.000056</td>\n",
              "    </tr>\n",
              "    <tr>\n",
              "      <th>9</th>\n",
              "      <td>2500.0</td>\n",
              "      <td>3210000.0</td>\n",
              "      <td>3.080000e+10</td>\n",
              "      <td>0.001266</td>\n",
              "      <td>1.3336</td>\n",
              "      <td>671.0</td>\n",
              "      <td>0.000040</td>\n",
              "    </tr>\n",
              "    <tr>\n",
              "      <th>10</th>\n",
              "      <td>2000.0</td>\n",
              "      <td>4000000.0</td>\n",
              "      <td>4.080000e+10</td>\n",
              "      <td>0.001582</td>\n",
              "      <td>1.2647</td>\n",
              "      <td>493.0</td>\n",
              "      <td>0.000029</td>\n",
              "    </tr>\n",
              "    <tr>\n",
              "      <th>11</th>\n",
              "      <td>1500.0</td>\n",
              "      <td>4650000.0</td>\n",
              "      <td>5.110000e+10</td>\n",
              "      <td>0.002137</td>\n",
              "      <td>1.2165</td>\n",
              "      <td>335.0</td>\n",
              "      <td>0.000021</td>\n",
              "    </tr>\n",
              "    <tr>\n",
              "      <th>12</th>\n",
              "      <td>1000.0</td>\n",
              "      <td>5270000.0</td>\n",
              "      <td>6.170000e+10</td>\n",
              "      <td>0.003300</td>\n",
              "      <td>1.1746</td>\n",
              "      <td>193.0</td>\n",
              "      <td>0.000017</td>\n",
              "    </tr>\n",
              "    <tr>\n",
              "      <th>13</th>\n",
              "      <td>500.0</td>\n",
              "      <td>5660000.0</td>\n",
              "      <td>7.190000e+10</td>\n",
              "      <td>0.006897</td>\n",
              "      <td>1.1249</td>\n",
              "      <td>73.0</td>\n",
              "      <td>0.000019</td>\n",
              "    </tr>\n",
              "  </tbody>\n",
              "</table>\n",
              "</div>"
            ],
            "text/plain": [
              "         p         Np            Gp        Bg      Bo      Rs        Rv\n",
              "0   4500.0        0.0  0.000000e+00  0.000821  5.7015  6944.0  0.000144\n",
              "1   4400.0   157000.0  1.090000e+09  0.000831  2.0338  2040.0  0.000142\n",
              "2   4300.0   371000.0  2.490000e+09  0.000842  1.9717  1900.0  0.000134\n",
              "3   4250.0   460000.0  3.220000e+09  0.000847  1.9420  1831.0  0.000130\n",
              "4   4200.0   530000.0  3.890000e+09  0.000853  1.9132  1760.0  0.000126\n",
              "5   4100.0   652000.0  5.090000e+09  0.000861  1.8579  1625.0  0.000118\n",
              "6   4000.0   794000.0  6.500000e+09  0.000873  1.8059  1512.0  0.000110\n",
              "7   3500.0  1610000.0  1.370000e+10  0.000951  1.5899  1139.0  0.000078\n",
              "8   3000.0  2420000.0  2.180000e+10  0.001073  1.4372   879.0  0.000056\n",
              "9   2500.0  3210000.0  3.080000e+10  0.001266  1.3336   671.0  0.000040\n",
              "10  2000.0  4000000.0  4.080000e+10  0.001582  1.2647   493.0  0.000029\n",
              "11  1500.0  4650000.0  5.110000e+10  0.002137  1.2165   335.0  0.000021\n",
              "12  1000.0  5270000.0  6.170000e+10  0.003300  1.1746   193.0  0.000017\n",
              "13   500.0  5660000.0  7.190000e+10  0.006897  1.1249    73.0  0.000019"
            ]
          },
          "execution_count": 6,
          "metadata": {
            "tags": []
          },
          "output_type": "execute_result"
        }
      ],
      "source": [
        "columns = ['p', 'Np', 'Gp', 'Bg', 'Bo', 'Rs', 'Rv']\n",
        "data = pd.read_csv('/content/reservoir-engineering/Unit 10 Gas-Condensate Reservoirs/data/Table 10.15-PVT and Production Data for Problem 10.5.csv', names=columns)\n",
        "data"
      ]
    },
    {
      "cell_type": "markdown",
      "metadata": {
        "colab_type": "text",
        "id": "qtuN_X60BfMG"
      },
      "source": [
        "#### Plot 1"
      ]
    },
    {
      "cell_type": "code",
      "execution_count": 13,
      "metadata": {
        "colab": {},
        "colab_type": "code",
        "id": "N-28O-O2AqaA"
      },
      "outputs": [],
      "source": [
        "Pdp = 4400 # psia\n",
        "p = data['p'].values # psia\n",
        "Np = data['Np'].values # STB\n",
        "Gp = data['Gp'].values # scf\n",
        "Bg = data['Bg'].values # RB/scf\n",
        "Bo = data['Bo'].values # RB/STB\n",
        "Rs = data['Rs'].values # scf/STB\n",
        "Rv = data['Rv'].values # STB/scf"
      ]
    },
    {
      "cell_type": "code",
      "execution_count": 16,
      "metadata": {
        "colab": {
          "base_uri": "https://localhost:8080/",
          "height": 295
        },
        "colab_type": "code",
        "id": "O312aJF5wGx_",
        "outputId": "311a65f5-5dda-493f-b690-f0b4abb830e5"
      },
      "outputs": [
        {
          "data": {
            "image/png": "[encoded data removed]",
            "text/plain": [
              "<Figure size 432x288 with 1 Axes>"
            ]
          },
          "metadata": {
            "needs_background": "light",
            "tags": []
          },
          "output_type": "display_data"
        }
      ],
      "source": [
        "x = condensate()\n",
        "F, Eg = condensate.plot1(x, Pdp, p, Rs, Rv, Rv[0], Bo, Bg, Bg[0], Np, Gp, Gp[0], Rs[0])"
      ]
    }
  ],
  "metadata": {
    "colab": {
      "authorship_tag": "ABX9TyNjtL29jXmiYBOUvlxJ83eB",
      "collapsed_sections": [],
      "include_colab_link": true,
      "name": "testing_matbal.ipynb",
      "provenance": [],
      "toc_visible": true
    },
    "kernelspec": {
      "display_name": "Python 3",
      "name": "python3"
    },
    "language_info": {
      "codemirror_mode": {
        "name": "ipython",
        "version": 3
      },
      "file_extension": ".py",
      "mimetype": "text/x-python",
      "name": "python",
      "nbconvert_exporter": "python",
      "pygments_lexer": "ipython3",
      "version": "3.11.7"
    }
  },
  "nbformat": 4,
  "nbformat_minor": 0
}
